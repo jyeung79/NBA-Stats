{
 "cells": [
  {
   "cell_type": "markdown",
   "metadata": {},
   "source": [
    "# Prototyping functions in nba_api "
   ]
  },
  {
   "cell_type": "markdown",
   "metadata": {},
   "source": [
    "query by player name and season\n",
    "\n",
    "get points, assists, steals, blocks ,turnovers, rebounds"
   ]
  },
  {
   "cell_type": "code",
   "execution_count": null,
   "metadata": {},
   "outputs": [],
   "source": [
    "from nba_api.stats.static import players\n",
    "from nba_api.stats.endpoints import commonplayerinfo, playergamelog\n",
    "import pandas as pd\n",
    "name_query = 'lebron'\n",
    "season_query = '2018'\n",
    "# remove 0 if want list of players\n",
    "name_result = players.find_players_by_first_name('lebron')\n",
    "\n",
    "player_found = True\n",
    "\n",
    "if  len(name_result) != 1:\n",
    "    player_found == False\n",
    "\n",
    "name_id = name_result[0]['id']\n",
    "\n",
    "gamelog = playergamelog.PlayerGameLog(player_id=name_id, season = season_query)\n",
    "\n",
    "stats_to_query = ['PTS', 'REB', 'AST','STL','BLK']\n",
    "relevant_stats = gamelog.get_data_frames()[0][stats_to_query]\n",
    "\n",
    "stats_sum = relevant_stats.sum()\n",
    "stats_avg = relevant_stats.mean()\n",
    "\n",
    "print(stats_sum.to_json())\n",
    "print(stats_avg.to_json())"
   ]
  }
 ],
 "metadata": {
  "interpreter": {
   "hash": "d51d81c13761475f17cb7ce9ee14e3ecc55dcf1f3739e1fb7e8c5d29eba7854c"
  },
  "kernelspec": {
   "display_name": "Python 3.8.0 64-bit ('NBA': conda)",
   "language": "python",
   "name": "python3"
  },
  "language_info": {
   "codemirror_mode": {
    "name": "ipython",
    "version": 3
   },
   "file_extension": ".py",
   "mimetype": "text/x-python",
   "name": "python",
   "nbconvert_exporter": "python",
   "pygments_lexer": "ipython3",
   "version": "3.8.0"
  },
  "orig_nbformat": 4
 },
 "nbformat": 4,
 "nbformat_minor": 2
}
