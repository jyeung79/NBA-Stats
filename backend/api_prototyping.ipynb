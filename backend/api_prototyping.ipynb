{
 "cells": [
  {
   "cell_type": "markdown",
   "metadata": {},
   "source": [
    "# Prototyping functions in nba_api "
   ]
  },
  {
   "cell_type": "markdown",
   "metadata": {},
   "source": [
    "query by player name and season\n",
    "\n",
    "get points, assists, steals, blocks ,turnovers, rebounds"
   ]
  },
  {
   "cell_type": "code",
   "execution_count": 30,
   "metadata": {},
   "outputs": [],
   "source": [
    "from nba_api.stats.static import players\n",
    "from nba_api.stats.endpoints import commonplayerinfo, playergamelog\n",
    "from nba_api.stats.static import players\n",
    "import json\n",
    "import pandas as pd"
   ]
  },
  {
   "cell_type": "markdown",
   "metadata": {},
   "source": [
    "Make player ID -> photo association"
   ]
  },
  {
   "cell_type": "code",
   "execution_count": 75,
   "metadata": {},
   "outputs": [],
   "source": [
    "bbr_to_name = json.load(open('player_bbr_to_name.json', 'r'))\n",
    "bbr_to_pic = json.load(open('player_bbr_to_picture.json', 'r'))\n",
    "bbr_to_name = bbr_to_name[\"results\"]['bindings']"
   ]
  },
  {
   "cell_type": "code",
   "execution_count": 86,
   "metadata": {},
   "outputs": [],
   "source": [
    "bbr_name_dict = {'name': [], 'bbr': []}\n",
    "\n",
    "for entry in bbr_to_name:\n",
    "    bbr_name_dict['name'].append(entry['name']['value'])\n",
    "    bbr_name_dict['bbr'].append(entry['bbr']['value'])\n",
    "\n",
    "data_df = pd.DataFrame.from_dict(bbr_name_dict)"
   ]
  },
  {
   "cell_type": "code",
   "execution_count": 87,
   "metadata": {},
   "outputs": [],
   "source": [
    "# ~18 sec runtime\n",
    "ids = []\n",
    "urls = []\n",
    "\n",
    "for row in data_df.iterrows():\n",
    "    name_result = players.find_players_by_full_name(row[1]['name'])\n",
    "    if name_result:\n",
    "        player_id = name_result[0]['id']\n",
    "        ids.append(int(player_id))\n",
    "        try:\n",
    "            urls.append(bbr_to_pic[row[1]['bbr']])\n",
    "        except KeyError:\n",
    "            urls.append(None)\n",
    "    else:\n",
    "        ids.append(None)\n",
    "        urls.append(None)\n",
    "\n",
    "data_df['player_id'] = ids\n",
    "data_df['img_url'] = urls\n",
    "data_df = data_df.drop(['name', 'bbr'], axis=1)\n",
    "data_df = data_df.dropna()\n",
    "data_df = data_df.astype({'player_id': 'int32'})\n"
   ]
  },
  {
   "cell_type": "code",
   "execution_count": 121,
   "metadata": {},
   "outputs": [],
   "source": [
    "data_dict = data_df.set_index('player_id')['img_url'].to_dict()\n",
    "json.dump(data_dict, open('player_id_to_img.json', 'w'))"
   ]
  },
  {
   "cell_type": "code",
   "execution_count": 7,
   "metadata": {},
   "outputs": [
    {
     "data": {
      "text/plain": [
       "{'id': 1630173,\n",
       " 'full_name': 'Precious Achiuwa',\n",
       " 'first_name': 'Precious',\n",
       " 'last_name': 'Achiuwa',\n",
       " 'is_active': True}"
      ]
     },
     "execution_count": 7,
     "metadata": {},
     "output_type": "execute_result"
    }
   ],
   "source": [
    "\n",
    "# get_players returns a list of dictionaries, each representing a player.\n",
    "nba_players = players.get_players()\n",
    "#with open(\"all_players.json\", \"w+\") as f:\n",
    "#    jsonString = json.dump(nba_players, f)\n"
   ]
  },
  {
   "cell_type": "code",
   "execution_count": null,
   "metadata": {},
   "outputs": [],
   "source": [
    "\n",
    "import pandas as pd\n",
    "name = 'lebron james'\n",
    "season= '2018'\n",
    "# remove 0 if want list of players\n",
    "name_result = players.find_players_by_full_name(name)\n",
    "\n",
    "player_found = True\n",
    "\n",
    "if  len(name_result) != 1:\n",
    "    player_found == False\n",
    "\n",
    "player_to_query = ['id', 'full_name']\n",
    "player_query = { rel_key: name_result[0][rel_key] for rel_key in player_to_query }\n",
    "\n",
    "season_query = playergamelog.PlayerGameLog(player_id=player_query['id'], season = season)\n",
    "\n",
    "stats_to_query = ['PTS', 'REB', 'AST','STL','BLK']\n",
    "relevant_stats = season_query.get_data_frames()[0][stats_to_query]\n",
    "\n",
    "stats_sum = relevant_stats.sum()\n",
    "stats_avg = relevant_stats.mean()\n",
    "\n",
    "for info in player_to_query:\n",
    "    stats_sum[info] = player_query[info]\n",
    "    stats_avg[info] = player_query[info]\n",
    "    \n",
    "print(stats_sum.to_json())\n",
    "print(stats_avg.to_json())"
   ]
  }
 ],
 "metadata": {
  "interpreter": {
   "hash": "d51d81c13761475f17cb7ce9ee14e3ecc55dcf1f3739e1fb7e8c5d29eba7854c"
  },
  "kernelspec": {
   "display_name": "Python 3.8.0 64-bit ('NBA': conda)",
   "language": "python",
   "name": "python3"
  },
  "language_info": {
   "codemirror_mode": {
    "name": "ipython",
    "version": 3
   },
   "file_extension": ".py",
   "mimetype": "text/x-python",
   "name": "python",
   "nbconvert_exporter": "python",
   "pygments_lexer": "ipython3",
   "version": "3.8.0"
  },
  "orig_nbformat": 4
 },
 "nbformat": 4,
 "nbformat_minor": 2
}
